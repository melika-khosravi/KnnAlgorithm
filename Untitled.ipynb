{
 "cells": [
  {
   "cell_type": "markdown",
   "id": "498ad18f-012f-475d-be05-b47612d79c17",
   "metadata": {},
   "source": [
    "فراخوانی کتابخانه های مورد نیاز\n",
    "و خواندن فایل مدنظر"
   ]
  },
  {
   "cell_type": "code",
   "execution_count": 25,
   "id": "34d78fbf-bf40-4ebf-a5ff-d9f3b72080a2",
   "metadata": {},
   "outputs": [],
   "source": [
    "import pandas as pd\n",
    "import numpy as np\n",
    "\n",
    "pd.set_option('display.max_columns', None)\n",
    "pd.set_option('display.max_rows', None)\n",
    "\n",
    "df=pd.read_csv(r'Rice_Cammeo_Osmancik.csv')"
   ]
  },
  {
   "cell_type": "markdown",
   "id": "e02ac643-5515-4b76-80b7-6f461df110aa",
   "metadata": {},
   "source": [
    "Preprocessing"
   ]
  },
  {
   "cell_type": "markdown",
   "id": "9802ff91-7dd7-4b50-8f63-15ba5ca8b15e",
   "metadata": {},
   "source": [
    "نمایش تایپ هر ستون"
   ]
  },
  {
   "cell_type": "code",
   "execution_count": 2,
   "id": "eea27326-79a8-4278-8310-8b6ca027027a",
   "metadata": {},
   "outputs": [
    {
     "data": {
      "text/plain": [
       "Area                  object\n",
       "Perimeter            float64\n",
       "Major_Axis_Length    float64\n",
       "Minor_Axis_Length     object\n",
       "Eccentricity         float64\n",
       "Convex_Area           object\n",
       "Extent               float64\n",
       "Class                 object\n",
       "dtype: object"
      ]
     },
     "execution_count": 2,
     "metadata": {},
     "output_type": "execute_result"
    }
   ],
   "source": [
    "df.dtypes"
   ]
  },
  {
   "cell_type": "markdown",
   "id": "ba12a4ed-df0e-4414-bb64-6143d1cdaa20",
   "metadata": {},
   "source": [
    "نمایش اطلاعات کلی درباره دیتافریم"
   ]
  },
  {
   "cell_type": "code",
   "execution_count": 3,
   "id": "731da4c4-488c-4d5f-88ee-245adca1c077",
   "metadata": {},
   "outputs": [
    {
     "name": "stdout",
     "output_type": "stream",
     "text": [
      "<class 'pandas.core.frame.DataFrame'>\n",
      "RangeIndex: 3827 entries, 0 to 3826\n",
      "Data columns (total 8 columns):\n",
      " #   Column             Non-Null Count  Dtype  \n",
      "---  ------             --------------  -----  \n",
      " 0   Area               3826 non-null   object \n",
      " 1   Perimeter          3827 non-null   float64\n",
      " 2   Major_Axis_Length  3824 non-null   float64\n",
      " 3   Minor_Axis_Length  3827 non-null   object \n",
      " 4   Eccentricity       3827 non-null   float64\n",
      " 5   Convex_Area        3825 non-null   object \n",
      " 6   Extent             3826 non-null   float64\n",
      " 7   Class              3827 non-null   object \n",
      "dtypes: float64(4), object(4)\n",
      "memory usage: 239.3+ KB\n"
     ]
    }
   ],
   "source": [
    "df.info()"
   ]
  },
  {
   "cell_type": "markdown",
   "id": "d0554660-b6a0-4cf8-bf49-9eba5932d1e4",
   "metadata": {},
   "source": [
    "محاسبه یکسری مقادیر"
   ]
  },
  {
   "cell_type": "code",
   "execution_count": 4,
   "id": "d459fae2-387d-4874-b3bf-6774b49d99ec",
   "metadata": {},
   "outputs": [
    {
     "data": {
      "text/html": [
       "<div>\n",
       "<style scoped>\n",
       "    .dataframe tbody tr th:only-of-type {\n",
       "        vertical-align: middle;\n",
       "    }\n",
       "\n",
       "    .dataframe tbody tr th {\n",
       "        vertical-align: top;\n",
       "    }\n",
       "\n",
       "    .dataframe thead th {\n",
       "        text-align: right;\n",
       "    }\n",
       "</style>\n",
       "<table border=\"1\" class=\"dataframe\">\n",
       "  <thead>\n",
       "    <tr style=\"text-align: right;\">\n",
       "      <th></th>\n",
       "      <th>Area</th>\n",
       "      <th>Perimeter</th>\n",
       "      <th>Major_Axis_Length</th>\n",
       "      <th>Minor_Axis_Length</th>\n",
       "      <th>Eccentricity</th>\n",
       "      <th>Convex_Area</th>\n",
       "      <th>Extent</th>\n",
       "      <th>Class</th>\n",
       "    </tr>\n",
       "  </thead>\n",
       "  <tbody>\n",
       "    <tr>\n",
       "      <th>count</th>\n",
       "      <td>3826</td>\n",
       "      <td>3827.000000</td>\n",
       "      <td>3824.000000</td>\n",
       "      <td>3827</td>\n",
       "      <td>3827.000000</td>\n",
       "      <td>3825</td>\n",
       "      <td>3826.000000</td>\n",
       "      <td>3827</td>\n",
       "    </tr>\n",
       "    <tr>\n",
       "      <th>unique</th>\n",
       "      <td>2827</td>\n",
       "      <td>NaN</td>\n",
       "      <td>NaN</td>\n",
       "      <td>3804</td>\n",
       "      <td>NaN</td>\n",
       "      <td>2856</td>\n",
       "      <td>NaN</td>\n",
       "      <td>2</td>\n",
       "    </tr>\n",
       "    <tr>\n",
       "      <th>top</th>\n",
       "      <td>14850</td>\n",
       "      <td>NaN</td>\n",
       "      <td>NaN</td>\n",
       "      <td>71.42118073</td>\n",
       "      <td>NaN</td>\n",
       "      <td>13562</td>\n",
       "      <td>NaN</td>\n",
       "      <td>Osmancik</td>\n",
       "    </tr>\n",
       "    <tr>\n",
       "      <th>freq</th>\n",
       "      <td>5</td>\n",
       "      <td>NaN</td>\n",
       "      <td>NaN</td>\n",
       "      <td>2</td>\n",
       "      <td>NaN</td>\n",
       "      <td>5</td>\n",
       "      <td>NaN</td>\n",
       "      <td>2191</td>\n",
       "    </tr>\n",
       "    <tr>\n",
       "      <th>mean</th>\n",
       "      <td>NaN</td>\n",
       "      <td>454.152591</td>\n",
       "      <td>188.785339</td>\n",
       "      <td>NaN</td>\n",
       "      <td>0.886980</td>\n",
       "      <td>NaN</td>\n",
       "      <td>0.661831</td>\n",
       "      <td>NaN</td>\n",
       "    </tr>\n",
       "    <tr>\n",
       "      <th>std</th>\n",
       "      <td>NaN</td>\n",
       "      <td>35.649046</td>\n",
       "      <td>17.456787</td>\n",
       "      <td>NaN</td>\n",
       "      <td>0.020873</td>\n",
       "      <td>NaN</td>\n",
       "      <td>0.077329</td>\n",
       "      <td>NaN</td>\n",
       "    </tr>\n",
       "    <tr>\n",
       "      <th>min</th>\n",
       "      <td>NaN</td>\n",
       "      <td>359.100006</td>\n",
       "      <td>145.264465</td>\n",
       "      <td>NaN</td>\n",
       "      <td>0.777233</td>\n",
       "      <td>NaN</td>\n",
       "      <td>0.497413</td>\n",
       "      <td>NaN</td>\n",
       "    </tr>\n",
       "    <tr>\n",
       "      <th>25%</th>\n",
       "      <td>NaN</td>\n",
       "      <td>425.957993</td>\n",
       "      <td>174.356701</td>\n",
       "      <td>NaN</td>\n",
       "      <td>0.872473</td>\n",
       "      <td>NaN</td>\n",
       "      <td>0.598717</td>\n",
       "      <td>NaN</td>\n",
       "    </tr>\n",
       "    <tr>\n",
       "      <th>50%</th>\n",
       "      <td>NaN</td>\n",
       "      <td>448.839996</td>\n",
       "      <td>185.827438</td>\n",
       "      <td>NaN</td>\n",
       "      <td>0.889198</td>\n",
       "      <td>NaN</td>\n",
       "      <td>0.645275</td>\n",
       "      <td>NaN</td>\n",
       "    </tr>\n",
       "    <tr>\n",
       "      <th>75%</th>\n",
       "      <td>NaN</td>\n",
       "      <td>483.656494</td>\n",
       "      <td>203.559433</td>\n",
       "      <td>NaN</td>\n",
       "      <td>0.902759</td>\n",
       "      <td>NaN</td>\n",
       "      <td>0.726392</td>\n",
       "      <td>NaN</td>\n",
       "    </tr>\n",
       "    <tr>\n",
       "      <th>max</th>\n",
       "      <td>NaN</td>\n",
       "      <td>548.445984</td>\n",
       "      <td>239.010498</td>\n",
       "      <td>NaN</td>\n",
       "      <td>0.948007</td>\n",
       "      <td>NaN</td>\n",
       "      <td>0.861050</td>\n",
       "      <td>NaN</td>\n",
       "    </tr>\n",
       "  </tbody>\n",
       "</table>\n",
       "</div>"
      ],
      "text/plain": [
       "         Area    Perimeter  Major_Axis_Length Minor_Axis_Length  Eccentricity  \\\n",
       "count    3826  3827.000000        3824.000000              3827   3827.000000   \n",
       "unique   2827          NaN                NaN              3804           NaN   \n",
       "top     14850          NaN                NaN       71.42118073           NaN   \n",
       "freq        5          NaN                NaN                 2           NaN   \n",
       "mean      NaN   454.152591         188.785339               NaN      0.886980   \n",
       "std       NaN    35.649046          17.456787               NaN      0.020873   \n",
       "min       NaN   359.100006         145.264465               NaN      0.777233   \n",
       "25%       NaN   425.957993         174.356701               NaN      0.872473   \n",
       "50%       NaN   448.839996         185.827438               NaN      0.889198   \n",
       "75%       NaN   483.656494         203.559433               NaN      0.902759   \n",
       "max       NaN   548.445984         239.010498               NaN      0.948007   \n",
       "\n",
       "       Convex_Area       Extent     Class  \n",
       "count         3825  3826.000000      3827  \n",
       "unique        2856          NaN         2  \n",
       "top          13562          NaN  Osmancik  \n",
       "freq             5          NaN      2191  \n",
       "mean           NaN     0.661831       NaN  \n",
       "std            NaN     0.077329       NaN  \n",
       "min            NaN     0.497413       NaN  \n",
       "25%            NaN     0.598717       NaN  \n",
       "50%            NaN     0.645275       NaN  \n",
       "75%            NaN     0.726392       NaN  \n",
       "max            NaN     0.861050       NaN  "
      ]
     },
     "execution_count": 4,
     "metadata": {},
     "output_type": "execute_result"
    }
   ],
   "source": [
    "df.describe(include = 'all')"
   ]
  },
  {
   "cell_type": "markdown",
   "id": "f29682d9-611a-45e7-b600-c353ac21fb09",
   "metadata": {},
   "source": [
    "نمایش 10ستون اول"
   ]
  },
  {
   "cell_type": "code",
   "execution_count": 5,
   "id": "5d9b0a83-d4d0-4c8a-95f8-56347c9cf455",
   "metadata": {},
   "outputs": [
    {
     "data": {
      "text/html": [
       "<div>\n",
       "<style scoped>\n",
       "    .dataframe tbody tr th:only-of-type {\n",
       "        vertical-align: middle;\n",
       "    }\n",
       "\n",
       "    .dataframe tbody tr th {\n",
       "        vertical-align: top;\n",
       "    }\n",
       "\n",
       "    .dataframe thead th {\n",
       "        text-align: right;\n",
       "    }\n",
       "</style>\n",
       "<table border=\"1\" class=\"dataframe\">\n",
       "  <thead>\n",
       "    <tr style=\"text-align: right;\">\n",
       "      <th></th>\n",
       "      <th>Area</th>\n",
       "      <th>Perimeter</th>\n",
       "      <th>Major_Axis_Length</th>\n",
       "      <th>Minor_Axis_Length</th>\n",
       "      <th>Eccentricity</th>\n",
       "      <th>Convex_Area</th>\n",
       "      <th>Extent</th>\n",
       "      <th>Class</th>\n",
       "    </tr>\n",
       "  </thead>\n",
       "  <tbody>\n",
       "    <tr>\n",
       "      <th>0</th>\n",
       "      <td>7551</td>\n",
       "      <td>369.063995</td>\n",
       "      <td>163.408829</td>\n",
       "      <td>59.53240585</td>\n",
       "      <td>0.931275</td>\n",
       "      <td>7723</td>\n",
       "      <td>0.756462</td>\n",
       "      <td>Osmancik</td>\n",
       "    </tr>\n",
       "    <tr>\n",
       "      <th>1</th>\n",
       "      <td>8546</td>\n",
       "      <td>388.580994</td>\n",
       "      <td>172.519959</td>\n",
       "      <td>63.34475327</td>\n",
       "      <td>0.930152</td>\n",
       "      <td>8685</td>\n",
       "      <td>0.735456</td>\n",
       "      <td>Osmancik</td>\n",
       "    </tr>\n",
       "    <tr>\n",
       "      <th>2</th>\n",
       "      <td>7833</td>\n",
       "      <td>373.157013</td>\n",
       "      <td>162.516434</td>\n",
       "      <td>63.56500244</td>\n",
       "      <td>0.920336</td>\n",
       "      <td>8015</td>\n",
       "      <td>0.769752</td>\n",
       "      <td>Osmancik</td>\n",
       "    </tr>\n",
       "    <tr>\n",
       "      <th>3</th>\n",
       "      <td>9292</td>\n",
       "      <td>414.118988</td>\n",
       "      <td>183.639710</td>\n",
       "      <td>64.87107086</td>\n",
       "      <td>0.935528</td>\n",
       "      <td>9442</td>\n",
       "      <td>0.501078</td>\n",
       "      <td>Osmancik</td>\n",
       "    </tr>\n",
       "    <tr>\n",
       "      <th>4</th>\n",
       "      <td>7943</td>\n",
       "      <td>362.673004</td>\n",
       "      <td>154.886322</td>\n",
       "      <td>65.93088531</td>\n",
       "      <td>0.904877</td>\n",
       "      <td>8080</td>\n",
       "      <td>0.608659</td>\n",
       "      <td>Osmancik</td>\n",
       "    </tr>\n",
       "    <tr>\n",
       "      <th>5</th>\n",
       "      <td>9414</td>\n",
       "      <td>407.825012</td>\n",
       "      <td>179.545883</td>\n",
       "      <td>66.91815948</td>\n",
       "      <td>0.927949</td>\n",
       "      <td>9583</td>\n",
       "      <td>0.810434</td>\n",
       "      <td>Osmancik</td>\n",
       "    </tr>\n",
       "    <tr>\n",
       "      <th>6</th>\n",
       "      <td>9908</td>\n",
       "      <td>432.769012</td>\n",
       "      <td>188.187683</td>\n",
       "      <td>67.69534302</td>\n",
       "      <td>0.933059</td>\n",
       "      <td>10205</td>\n",
       "      <td>0.611680</td>\n",
       "      <td>Cammeo</td>\n",
       "    </tr>\n",
       "    <tr>\n",
       "      <th>7</th>\n",
       "      <td>8709</td>\n",
       "      <td>383.527008</td>\n",
       "      <td>164.193893</td>\n",
       "      <td>67.93288422</td>\n",
       "      <td>0.910397</td>\n",
       "      <td>8873</td>\n",
       "      <td>0.767989</td>\n",
       "      <td>Osmancik</td>\n",
       "    </tr>\n",
       "    <tr>\n",
       "      <th>8</th>\n",
       "      <td>9426</td>\n",
       "      <td>402.709992</td>\n",
       "      <td>175.974289</td>\n",
       "      <td>68.60753632</td>\n",
       "      <td>0.920869</td>\n",
       "      <td>9578</td>\n",
       "      <td>0.577432</td>\n",
       "      <td>Osmancik</td>\n",
       "    </tr>\n",
       "    <tr>\n",
       "      <th>9</th>\n",
       "      <td>9273</td>\n",
       "      <td>406.402008</td>\n",
       "      <td>173.414093</td>\n",
       "      <td>68.80253601</td>\n",
       "      <td>0.917925</td>\n",
       "      <td>9445</td>\n",
       "      <td>0.530098</td>\n",
       "      <td>Osmancik</td>\n",
       "    </tr>\n",
       "  </tbody>\n",
       "</table>\n",
       "</div>"
      ],
      "text/plain": [
       "   Area   Perimeter  Major_Axis_Length Minor_Axis_Length  Eccentricity  \\\n",
       "0  7551  369.063995         163.408829       59.53240585      0.931275   \n",
       "1  8546  388.580994         172.519959       63.34475327      0.930152   \n",
       "2  7833  373.157013         162.516434       63.56500244      0.920336   \n",
       "3  9292  414.118988         183.639710       64.87107086      0.935528   \n",
       "4  7943  362.673004         154.886322       65.93088531      0.904877   \n",
       "5  9414  407.825012         179.545883       66.91815948      0.927949   \n",
       "6  9908  432.769012         188.187683       67.69534302      0.933059   \n",
       "7  8709  383.527008         164.193893       67.93288422      0.910397   \n",
       "8  9426  402.709992         175.974289       68.60753632      0.920869   \n",
       "9  9273  406.402008         173.414093       68.80253601      0.917925   \n",
       "\n",
       "  Convex_Area    Extent     Class  \n",
       "0        7723  0.756462  Osmancik  \n",
       "1        8685  0.735456  Osmancik  \n",
       "2        8015  0.769752  Osmancik  \n",
       "3        9442  0.501078  Osmancik  \n",
       "4        8080  0.608659  Osmancik  \n",
       "5        9583  0.810434  Osmancik  \n",
       "6       10205  0.611680    Cammeo  \n",
       "7        8873  0.767989  Osmancik  \n",
       "8        9578  0.577432  Osmancik  \n",
       "9        9445  0.530098  Osmancik  "
      ]
     },
     "execution_count": 5,
     "metadata": {},
     "output_type": "execute_result"
    }
   ],
   "source": [
    "df.head(10)"
   ]
  },
  {
   "cell_type": "markdown",
   "id": "0c504784-c544-48d8-a3a0-6cd2025a4196",
   "metadata": {},
   "source": [
    "نمایش 10 ستون اخر"
   ]
  },
  {
   "cell_type": "code",
   "execution_count": 6,
   "id": "fcacfd04-1740-4c77-803d-375e3bd9a25f",
   "metadata": {},
   "outputs": [
    {
     "data": {
      "text/html": [
       "<div>\n",
       "<style scoped>\n",
       "    .dataframe tbody tr th:only-of-type {\n",
       "        vertical-align: middle;\n",
       "    }\n",
       "\n",
       "    .dataframe tbody tr th {\n",
       "        vertical-align: top;\n",
       "    }\n",
       "\n",
       "    .dataframe thead th {\n",
       "        text-align: right;\n",
       "    }\n",
       "</style>\n",
       "<table border=\"1\" class=\"dataframe\">\n",
       "  <thead>\n",
       "    <tr style=\"text-align: right;\">\n",
       "      <th></th>\n",
       "      <th>Area</th>\n",
       "      <th>Perimeter</th>\n",
       "      <th>Major_Axis_Length</th>\n",
       "      <th>Minor_Axis_Length</th>\n",
       "      <th>Eccentricity</th>\n",
       "      <th>Convex_Area</th>\n",
       "      <th>Extent</th>\n",
       "      <th>Class</th>\n",
       "    </tr>\n",
       "  </thead>\n",
       "  <tbody>\n",
       "    <tr>\n",
       "      <th>3817</th>\n",
       "      <td>9751</td>\n",
       "      <td>412.597992</td>\n",
       "      <td>175.450638</td>\n",
       "      <td>71.44275665</td>\n",
       "      <td>0.913341</td>\n",
       "      <td>10034</td>\n",
       "      <td>0.714359</td>\n",
       "      <td>Osmancik</td>\n",
       "    </tr>\n",
       "    <tr>\n",
       "      <th>3818</th>\n",
       "      <td>9802</td>\n",
       "      <td>412.368988</td>\n",
       "      <td>176.165573</td>\n",
       "      <td>71.48280334</td>\n",
       "      <td>0.913975</td>\n",
       "      <td>9991</td>\n",
       "      <td>0.566950</td>\n",
       "      <td>Osmancik</td>\n",
       "    </tr>\n",
       "    <tr>\n",
       "      <th>3819</th>\n",
       "      <td>8501</td>\n",
       "      <td>371.024994</td>\n",
       "      <td>153.896255</td>\n",
       "      <td>71.51190948</td>\n",
       "      <td>0.885481</td>\n",
       "      <td>8738</td>\n",
       "      <td>0.639846</td>\n",
       "      <td>Osmancik</td>\n",
       "    </tr>\n",
       "    <tr>\n",
       "      <th>3820</th>\n",
       "      <td>8850</td>\n",
       "      <td>381.433990</td>\n",
       "      <td>159.251205</td>\n",
       "      <td>71.76094818</td>\n",
       "      <td>0.892718</td>\n",
       "      <td>9063</td>\n",
       "      <td>0.572519</td>\n",
       "      <td>Osmancik</td>\n",
       "    </tr>\n",
       "    <tr>\n",
       "      <th>3821</th>\n",
       "      <td>10713</td>\n",
       "      <td>443.403992</td>\n",
       "      <td>192.886185</td>\n",
       "      <td>71.78689575</td>\n",
       "      <td>0.928164</td>\n",
       "      <td>10969</td>\n",
       "      <td>0.696101</td>\n",
       "      <td>Osmancik</td>\n",
       "    </tr>\n",
       "    <tr>\n",
       "      <th>3822</th>\n",
       "      <td>10151</td>\n",
       "      <td>420.899994</td>\n",
       "      <td>181.995575</td>\n",
       "      <td>72.09951019</td>\n",
       "      <td>0.918181</td>\n",
       "      <td>10407</td>\n",
       "      <td>0.521634</td>\n",
       "      <td>Osmancik</td>\n",
       "    </tr>\n",
       "    <tr>\n",
       "      <th>3823</th>\n",
       "      <td>10222</td>\n",
       "      <td>423.497009</td>\n",
       "      <td>182.800247</td>\n",
       "      <td>72.1242981</td>\n",
       "      <td>0.918873</td>\n",
       "      <td>10421</td>\n",
       "      <td>0.820385</td>\n",
       "      <td>Osmancik</td>\n",
       "    </tr>\n",
       "    <tr>\n",
       "      <th>3824</th>\n",
       "      <td>9216</td>\n",
       "      <td>384.342011</td>\n",
       "      <td>163.291626</td>\n",
       "      <td>72.26079559</td>\n",
       "      <td>0.896756</td>\n",
       "      <td>9352</td>\n",
       "      <td>0.624771</td>\n",
       "      <td>Osmancik</td>\n",
       "    </tr>\n",
       "    <tr>\n",
       "      <th>3825</th>\n",
       "      <td>11377</td>\n",
       "      <td>452.407989</td>\n",
       "      <td>201.306259</td>\n",
       "      <td>72.28141785</td>\n",
       "      <td>0.933314</td>\n",
       "      <td>11555</td>\n",
       "      <td>0.525545</td>\n",
       "      <td>Cammeo</td>\n",
       "    </tr>\n",
       "    <tr>\n",
       "      <th>3826</th>\n",
       "      <td>9598</td>\n",
       "      <td>397.000000</td>\n",
       "      <td>172.006790</td>\n",
       "      <td>72.28364563</td>\n",
       "      <td>0.907414</td>\n",
       "      <td>9766</td>\n",
       "      <td>0.796845</td>\n",
       "      <td>Osmancik</td>\n",
       "    </tr>\n",
       "  </tbody>\n",
       "</table>\n",
       "</div>"
      ],
      "text/plain": [
       "       Area   Perimeter  Major_Axis_Length Minor_Axis_Length  Eccentricity  \\\n",
       "3817   9751  412.597992         175.450638       71.44275665      0.913341   \n",
       "3818   9802  412.368988         176.165573       71.48280334      0.913975   \n",
       "3819   8501  371.024994         153.896255       71.51190948      0.885481   \n",
       "3820   8850  381.433990         159.251205       71.76094818      0.892718   \n",
       "3821  10713  443.403992         192.886185       71.78689575      0.928164   \n",
       "3822  10151  420.899994         181.995575       72.09951019      0.918181   \n",
       "3823  10222  423.497009         182.800247        72.1242981      0.918873   \n",
       "3824   9216  384.342011         163.291626       72.26079559      0.896756   \n",
       "3825  11377  452.407989         201.306259       72.28141785      0.933314   \n",
       "3826   9598  397.000000         172.006790       72.28364563      0.907414   \n",
       "\n",
       "     Convex_Area    Extent     Class  \n",
       "3817       10034  0.714359  Osmancik  \n",
       "3818        9991  0.566950  Osmancik  \n",
       "3819        8738  0.639846  Osmancik  \n",
       "3820        9063  0.572519  Osmancik  \n",
       "3821       10969  0.696101  Osmancik  \n",
       "3822       10407  0.521634  Osmancik  \n",
       "3823       10421  0.820385  Osmancik  \n",
       "3824        9352  0.624771  Osmancik  \n",
       "3825       11555  0.525545    Cammeo  \n",
       "3826        9766  0.796845  Osmancik  "
      ]
     },
     "execution_count": 6,
     "metadata": {},
     "output_type": "execute_result"
    }
   ],
   "source": [
    "df.tail(10)"
   ]
  },
  {
   "cell_type": "markdown",
   "id": "f7bb56da-df8d-462f-b0bf-209b819f0894",
   "metadata": {},
   "source": [
    "نمایش تعداد سطر ها"
   ]
  },
  {
   "cell_type": "code",
   "execution_count": 7,
   "id": "bf1d1024-0752-4583-8c51-55fd735ad5cd",
   "metadata": {
    "scrolled": true
   },
   "outputs": [
    {
     "data": {
      "text/plain": [
       "3827"
      ]
     },
     "execution_count": 7,
     "metadata": {},
     "output_type": "execute_result"
    }
   ],
   "source": [
    "df.shape[0]"
   ]
  },
  {
   "cell_type": "markdown",
   "id": "15d89291-91f8-42f2-ae14-534cbaefacfe",
   "metadata": {},
   "source": [
    "نمایش تعداد ستون ها"
   ]
  },
  {
   "cell_type": "code",
   "execution_count": 8,
   "id": "a8a01f8f-c7ab-48d0-9265-ac24164b7a44",
   "metadata": {},
   "outputs": [
    {
     "data": {
      "text/plain": [
       "8"
      ]
     },
     "execution_count": 8,
     "metadata": {},
     "output_type": "execute_result"
    }
   ],
   "source": [
    "df.shape[1]"
   ]
  },
  {
   "cell_type": "markdown",
   "id": "f304a0cf-0fb4-4d68-9ccd-9c4c49f618d7",
   "metadata": {},
   "source": [
    "نمایش ماکسیمم عدد ستون های عددی"
   ]
  },
  {
   "cell_type": "code",
   "execution_count": 9,
   "id": "088db4d7-bc25-4bae-8f38-52893f2058c5",
   "metadata": {},
   "outputs": [
    {
     "data": {
      "text/plain": [
       "Perimeter            548.445984\n",
       "Major_Axis_Length    239.010498\n",
       "Eccentricity           0.948007\n",
       "Extent                 0.861050\n",
       "dtype: float64"
      ]
     },
     "execution_count": 9,
     "metadata": {},
     "output_type": "execute_result"
    }
   ],
   "source": [
    "df.max(numeric_only=True)"
   ]
  },
  {
   "cell_type": "markdown",
   "id": "e93fa226-6dcb-4cda-9072-a9b9a86ea080",
   "metadata": {},
   "source": [
    "نمایش مینیمم عدد ستون های عددی"
   ]
  },
  {
   "cell_type": "code",
   "execution_count": 10,
   "id": "3a02ed65-3d4e-487c-b08b-a33090247ced",
   "metadata": {},
   "outputs": [
    {
     "data": {
      "text/plain": [
       "Perimeter            359.100006\n",
       "Major_Axis_Length    145.264465\n",
       "Eccentricity           0.777233\n",
       "Extent                 0.497413\n",
       "dtype: float64"
      ]
     },
     "execution_count": 10,
     "metadata": {},
     "output_type": "execute_result"
    }
   ],
   "source": [
    "df.min(numeric_only=True)"
   ]
  },
  {
   "cell_type": "markdown",
   "id": "60f3fc42-dce1-486d-b3e2-38fc3b47a4c0",
   "metadata": {},
   "source": [
    "Data Cleaning"
   ]
  },
  {
   "cell_type": "markdown",
   "id": "0da76ae1-7372-4b8b-87d0-3eb4d16901e1",
   "metadata": {},
   "source": [
    "جایگذاری مقدار ؟؟؟ با نال-----\n",
    "حذف سطر های نال----\n",
    "حذف سطر های تکراری----\n",
    "درست کردن ترتیب ایندکس ها----"
   ]
  },
  {
   "cell_type": "code",
   "execution_count": 11,
   "id": "efdab847-41f9-4fe9-9825-49c508a70277",
   "metadata": {},
   "outputs": [
    {
     "name": "stdout",
     "output_type": "stream",
     "text": [
      "<class 'pandas.core.frame.DataFrame'>\n",
      "RangeIndex: 3800 entries, 0 to 3799\n",
      "Data columns (total 8 columns):\n",
      " #   Column             Non-Null Count  Dtype  \n",
      "---  ------             --------------  -----  \n",
      " 0   Area               3800 non-null   object \n",
      " 1   Perimeter          3800 non-null   float64\n",
      " 2   Major_Axis_Length  3800 non-null   float64\n",
      " 3   Minor_Axis_Length  3800 non-null   object \n",
      " 4   Eccentricity       3800 non-null   float64\n",
      " 5   Convex_Area        3800 non-null   object \n",
      " 6   Extent             3800 non-null   float64\n",
      " 7   Class              3800 non-null   object \n",
      "dtypes: float64(4), object(4)\n",
      "memory usage: 237.6+ KB\n"
     ]
    }
   ],
   "source": [
    "df1=df.replace('???',np.nan)\n",
    "df1.dropna(axis = 0,inplace=True)\n",
    "df1.drop_duplicates(inplace=True)\n",
    "df1.reset_index(drop=True,inplace=True)\n",
    "df1.info()"
   ]
  },
  {
   "cell_type": "markdown",
   "id": "54c44894-7cf4-45f1-acef-ceccf7952d00",
   "metadata": {},
   "source": [
    "تبدیل تایپ ستون هایی که ابجکت هستند به فلوت"
   ]
  },
  {
   "cell_type": "code",
   "execution_count": 12,
   "id": "d325f329-eaf2-4a1e-850b-e7b5e6eb2e72",
   "metadata": {},
   "outputs": [],
   "source": [
    "df1['Area']=df1['Area'].astype('float')\n",
    "df1['Minor_Axis_Length']=df1['Minor_Axis_Length'].astype('float')\n",
    "df1['Convex_Area']=df1['Convex_Area'].astype('float')"
   ]
  },
  {
   "cell_type": "markdown",
   "id": "0e330884-7b92-49b0-b0b8-217e082f1003",
   "metadata": {},
   "source": [
    "بدسن اوردن میانگین و انحراف معیار برای هر ویژگی"
   ]
  },
  {
   "cell_type": "code",
   "execution_count": 13,
   "id": "e4be485d-2aae-491c-8d15-1c4426a58968",
   "metadata": {},
   "outputs": [],
   "source": [
    "Area_avg=df1['Area'].mean()\n",
    "Area_std=df1['Area'].std()\n",
    "Perimeter_avg=df1['Perimeter'].mean()\n",
    "Perimeter_std=df1['Perimeter'].std()\n",
    "Major_Axis_Length_avg=df1['Major_Axis_Length'].mean()\n",
    "Major_Axis_Length_std=df1['Major_Axis_Length'].std()\n",
    "Minor_Axis_Length_avg=df1['Minor_Axis_Length'].mean()\n",
    "Minor_Axis_Length_std=df1['Minor_Axis_Length'].std()\n",
    "Eccentricity_avg=df1['Eccentricity'].mean()\n",
    "Eccentricity_std=df1['Eccentricity'].std()\n",
    "Convex_Area_avg=df1['Convex_Area'].mean()\n",
    "Convex_Area_std=df1['Convex_Area'].std()\n",
    "Extent_avg=df1['Extent'].mean()\n",
    "Extent_std=df1['Extent'].std()"
   ]
  },
  {
   "cell_type": "markdown",
   "id": "b48d3bde-3a02-4c8a-b63e-187b2669e16f",
   "metadata": {},
   "source": [
    "نرمال کردن ستون ها"
   ]
  },
  {
   "cell_type": "code",
   "execution_count": 14,
   "id": "98240cd7-ecf3-4ed0-bd9a-0f02cffc17db",
   "metadata": {},
   "outputs": [],
   "source": [
    "df1['Area']=(df1['Area']-Area_avg)/Area_std\n",
    "df1['Perimeter']=(df1['Perimeter']-Perimeter_avg)/Perimeter_std\n",
    "df1['Major_Axis_Length']=(df1['Major_Axis_Length']-Major_Axis_Length_avg)/Major_Axis_Length_std\n",
    "df1['Minor_Axis_Length']=(df1['Minor_Axis_Length']-Minor_Axis_Length_avg)/Minor_Axis_Length_std\n",
    "df1['Eccentricity']=(df1['Eccentricity']-Eccentricity_avg)/Eccentricity_std\n",
    "df1['Convex_Area']=(df1['Convex_Area']-Convex_Area_avg)/Convex_Area_std\n",
    "df1['Extent']=(df1['Extent']-Extent_avg)/Extent_std"
   ]
  },
  {
   "cell_type": "code",
   "execution_count": 15,
   "id": "f38a6efa-c794-4781-9fab-0dd5cf725037",
   "metadata": {},
   "outputs": [
    {
     "data": {
      "text/html": [
       "<div>\n",
       "<style scoped>\n",
       "    .dataframe tbody tr th:only-of-type {\n",
       "        vertical-align: middle;\n",
       "    }\n",
       "\n",
       "    .dataframe tbody tr th {\n",
       "        vertical-align: top;\n",
       "    }\n",
       "\n",
       "    .dataframe thead th {\n",
       "        text-align: right;\n",
       "    }\n",
       "</style>\n",
       "<table border=\"1\" class=\"dataframe\">\n",
       "  <thead>\n",
       "    <tr style=\"text-align: right;\">\n",
       "      <th></th>\n",
       "      <th>Area</th>\n",
       "      <th>Perimeter</th>\n",
       "      <th>Major_Axis_Length</th>\n",
       "      <th>Minor_Axis_Length</th>\n",
       "      <th>Eccentricity</th>\n",
       "      <th>Convex_Area</th>\n",
       "      <th>Extent</th>\n",
       "      <th>Class</th>\n",
       "    </tr>\n",
       "  </thead>\n",
       "  <tbody>\n",
       "    <tr>\n",
       "      <th>3790</th>\n",
       "      <td>2.273231</td>\n",
       "      <td>1.735646</td>\n",
       "      <td>1.080683</td>\n",
       "      <td>2.975956</td>\n",
       "      <td>-0.938400</td>\n",
       "      <td>2.338989</td>\n",
       "      <td>0.450586</td>\n",
       "      <td>Cammeo</td>\n",
       "    </tr>\n",
       "    <tr>\n",
       "      <th>3791</th>\n",
       "      <td>2.651575</td>\n",
       "      <td>1.853991</td>\n",
       "      <td>1.501016</td>\n",
       "      <td>2.978813</td>\n",
       "      <td>-0.482618</td>\n",
       "      <td>2.594649</td>\n",
       "      <td>-0.000916</td>\n",
       "      <td>Cammeo</td>\n",
       "    </tr>\n",
       "    <tr>\n",
       "      <th>3792</th>\n",
       "      <td>2.421681</td>\n",
       "      <td>1.782159</td>\n",
       "      <td>1.241643</td>\n",
       "      <td>3.055336</td>\n",
       "      <td>-0.815479</td>\n",
       "      <td>2.408253</td>\n",
       "      <td>-0.151944</td>\n",
       "      <td>Cammeo</td>\n",
       "    </tr>\n",
       "    <tr>\n",
       "      <th>3793</th>\n",
       "      <td>2.012145</td>\n",
       "      <td>1.162947</td>\n",
       "      <td>0.484719</td>\n",
       "      <td>3.358310</td>\n",
       "      <td>-2.020524</td>\n",
       "      <td>1.957751</td>\n",
       "      <td>0.614226</td>\n",
       "      <td>Cammeo</td>\n",
       "    </tr>\n",
       "    <tr>\n",
       "      <th>3794</th>\n",
       "      <td>2.614030</td>\n",
       "      <td>1.873355</td>\n",
       "      <td>1.212454</td>\n",
       "      <td>3.381492</td>\n",
       "      <td>-1.094034</td>\n",
       "      <td>2.606475</td>\n",
       "      <td>-0.721946</td>\n",
       "      <td>Cammeo</td>\n",
       "    </tr>\n",
       "    <tr>\n",
       "      <th>3795</th>\n",
       "      <td>3.258082</td>\n",
       "      <td>2.365340</td>\n",
       "      <td>1.928618</td>\n",
       "      <td>3.471379</td>\n",
       "      <td>-0.391920</td>\n",
       "      <td>3.247315</td>\n",
       "      <td>-0.485637</td>\n",
       "      <td>Cammeo</td>\n",
       "    </tr>\n",
       "    <tr>\n",
       "      <th>3796</th>\n",
       "      <td>2.733020</td>\n",
       "      <td>1.897890</td>\n",
       "      <td>1.275094</td>\n",
       "      <td>3.498140</td>\n",
       "      <td>-1.109605</td>\n",
       "      <td>2.692633</td>\n",
       "      <td>0.293946</td>\n",
       "      <td>Cammeo</td>\n",
       "    </tr>\n",
       "    <tr>\n",
       "      <th>3797</th>\n",
       "      <td>3.604657</td>\n",
       "      <td>2.456621</td>\n",
       "      <td>2.196375</td>\n",
       "      <td>3.604875</td>\n",
       "      <td>-0.224813</td>\n",
       "      <td>3.458488</td>\n",
       "      <td>1.840060</td>\n",
       "      <td>Cammeo</td>\n",
       "    </tr>\n",
       "    <tr>\n",
       "      <th>3798</th>\n",
       "      <td>3.047248</td>\n",
       "      <td>2.039899</td>\n",
       "      <td>1.448821</td>\n",
       "      <td>3.708735</td>\n",
       "      <td>-1.067463</td>\n",
       "      <td>3.020937</td>\n",
       "      <td>0.057264</td>\n",
       "      <td>Cammeo</td>\n",
       "    </tr>\n",
       "    <tr>\n",
       "      <th>3799</th>\n",
       "      <td>-1.775920</td>\n",
       "      <td>-1.611290</td>\n",
       "      <td>-0.963626</td>\n",
       "      <td>-2.455280</td>\n",
       "      <td>0.987136</td>\n",
       "      <td>-1.797191</td>\n",
       "      <td>1.745856</td>\n",
       "      <td>Osmancik</td>\n",
       "    </tr>\n",
       "  </tbody>\n",
       "</table>\n",
       "</div>"
      ],
      "text/plain": [
       "          Area  Perimeter  Major_Axis_Length  Minor_Axis_Length  Eccentricity  \\\n",
       "3790  2.273231   1.735646           1.080683           2.975956     -0.938400   \n",
       "3791  2.651575   1.853991           1.501016           2.978813     -0.482618   \n",
       "3792  2.421681   1.782159           1.241643           3.055336     -0.815479   \n",
       "3793  2.012145   1.162947           0.484719           3.358310     -2.020524   \n",
       "3794  2.614030   1.873355           1.212454           3.381492     -1.094034   \n",
       "3795  3.258082   2.365340           1.928618           3.471379     -0.391920   \n",
       "3796  2.733020   1.897890           1.275094           3.498140     -1.109605   \n",
       "3797  3.604657   2.456621           2.196375           3.604875     -0.224813   \n",
       "3798  3.047248   2.039899           1.448821           3.708735     -1.067463   \n",
       "3799 -1.775920  -1.611290          -0.963626          -2.455280      0.987136   \n",
       "\n",
       "      Convex_Area    Extent     Class  \n",
       "3790     2.338989  0.450586    Cammeo  \n",
       "3791     2.594649 -0.000916    Cammeo  \n",
       "3792     2.408253 -0.151944    Cammeo  \n",
       "3793     1.957751  0.614226    Cammeo  \n",
       "3794     2.606475 -0.721946    Cammeo  \n",
       "3795     3.247315 -0.485637    Cammeo  \n",
       "3796     2.692633  0.293946    Cammeo  \n",
       "3797     3.458488  1.840060    Cammeo  \n",
       "3798     3.020937  0.057264    Cammeo  \n",
       "3799    -1.797191  1.745856  Osmancik  "
      ]
     },
     "execution_count": 15,
     "metadata": {},
     "output_type": "execute_result"
    }
   ],
   "source": [
    "df1.tail(10)"
   ]
  },
  {
   "cell_type": "markdown",
   "id": "2de4a4a5-ac4d-417c-aa53-e6174e62863c",
   "metadata": {},
   "source": [
    "گرفتن ورودی"
   ]
  },
  {
   "cell_type": "code",
   "execution_count": 28,
   "id": "e802fd4f-776a-41ca-acd3-53b179a226b7",
   "metadata": {},
   "outputs": [
    {
     "name": "stdin",
     "output_type": "stream",
     "text": [
      "please enter area: 11377\n",
      "please enter Perimeter: 452.407989\n",
      "please enter Major Axis Length: 201.306259\n",
      "please enter Minor Axis Length: 72.28141785\n",
      "please enter Eccentricity: 0.933314\t\n",
      "please enter Convex Area: 11555\t\n",
      "please enter Extent: 0.525545\n"
     ]
    }
   ],
   "source": [
    "Area_input=float(input('please enter area:'))\n",
    "Perimeter_input=float(input('please enter Perimeter:'))\n",
    "Major_Axis_Length_input=float(input('please enter Major Axis Length:'))\n",
    "Minor_Axis_Length_input=float(input('please enter Minor Axis Length:'))\n",
    "Eccentricity_input=float(input('please enter Eccentricity:'))\n",
    "Convex_Area_input=float(input('please enter Convex Area:'))\n",
    "Extent_input=float(input('please enter Extent:'))"
   ]
  },
  {
   "cell_type": "code",
   "execution_count": 29,
   "id": "834664a6-8ec0-41eb-93f2-cdd0bcb09633",
   "metadata": {},
   "outputs": [],
   "source": [
    "new_data=[]\n",
    "new_data.append((Area_input-Area_avg)/Area_std)\n",
    "new_data.append((Perimeter_input-Perimeter_avg)/Perimeter_std)\n",
    "new_data.append((Major_Axis_Length_input-Major_Axis_Length_avg)/Major_Axis_Length_std)\n",
    "new_data.append((Minor_Axis_Length_input-Minor_Axis_Length_avg)/Minor_Axis_Length_std)\n",
    "new_data.append((Eccentricity_input-Eccentricity_avg)/Eccentricity_std)\n",
    "new_data.append((Convex_Area_input-Convex_Area_avg)/Convex_Area_std)\n",
    "new_data.append((Extent_input-Extent_avg)/Extent_std)"
   ]
  },
  {
   "cell_type": "code",
   "execution_count": 30,
   "id": "c0fc0d8c-f70f-454a-9945-ed7af52df5cc",
   "metadata": {},
   "outputs": [
    {
     "data": {
      "text/plain": [
       "[-0.7483251369242795,\n",
       " -0.05411568207093825,\n",
       " 0.7158322696244906,\n",
       " -2.455669536857544,\n",
       " 2.2324965185666006,\n",
       " -0.7897537560502182,\n",
       " -1.7652648265435358]"
      ]
     },
     "execution_count": 30,
     "metadata": {},
     "output_type": "execute_result"
    }
   ],
   "source": [
    "new_data"
   ]
  },
  {
   "cell_type": "code",
   "execution_count": 31,
   "id": "940000a0-08df-4ff6-86a7-b55593ee47e7",
   "metadata": {},
   "outputs": [],
   "source": [
    "compare=df1[['Area','Perimeter','Major_Axis_Length','Minor_Axis_Length','Eccentricity','Convex_Area','Extent']]"
   ]
  },
  {
   "cell_type": "markdown",
   "id": "a2fbc62f-8b84-4110-9d90-1b4cc53e8836",
   "metadata": {},
   "source": [
    "محاسبه فاصله داده جدید تا تکتک سطر ها\n",
    "سورت کردن داده ها و انتخاب 7 داده اول"
   ]
  },
  {
   "cell_type": "code",
   "execution_count": 32,
   "id": "1917ae7d-e627-428c-9cb5-751a1f80a71c",
   "metadata": {},
   "outputs": [],
   "source": [
    "distances = np.linalg.norm(compare - new_data, axis=1)\n",
    "nearest_neighbor_ids = distances.argsort()[:7]"
   ]
  },
  {
   "cell_type": "code",
   "execution_count": 33,
   "id": "819d8a40-efb3-4287-a59f-122ea96baacf",
   "metadata": {},
   "outputs": [
    {
     "data": {
      "text/html": [
       "<div>\n",
       "<style scoped>\n",
       "    .dataframe tbody tr th:only-of-type {\n",
       "        vertical-align: middle;\n",
       "    }\n",
       "\n",
       "    .dataframe tbody tr th {\n",
       "        vertical-align: top;\n",
       "    }\n",
       "\n",
       "    .dataframe thead th {\n",
       "        text-align: right;\n",
       "    }\n",
       "</style>\n",
       "<table border=\"1\" class=\"dataframe\">\n",
       "  <thead>\n",
       "    <tr style=\"text-align: right;\">\n",
       "      <th></th>\n",
       "      <th>Area</th>\n",
       "      <th>Perimeter</th>\n",
       "      <th>Major_Axis_Length</th>\n",
       "      <th>Minor_Axis_Length</th>\n",
       "      <th>Eccentricity</th>\n",
       "      <th>Convex_Area</th>\n",
       "      <th>Extent</th>\n",
       "      <th>Class</th>\n",
       "    </tr>\n",
       "  </thead>\n",
       "  <tbody>\n",
       "    <tr>\n",
       "      <th>46</th>\n",
       "      <td>-0.748325</td>\n",
       "      <td>-0.054116</td>\n",
       "      <td>0.715832</td>\n",
       "      <td>-2.455670</td>\n",
       "      <td>2.232483</td>\n",
       "      <td>-0.789754</td>\n",
       "      <td>-1.765264</td>\n",
       "      <td>Cammeo</td>\n",
       "    </tr>\n",
       "    <tr>\n",
       "      <th>34</th>\n",
       "      <td>-0.989772</td>\n",
       "      <td>-0.199552</td>\n",
       "      <td>0.489540</td>\n",
       "      <td>-2.669029</td>\n",
       "      <td>2.213980</td>\n",
       "      <td>-1.027394</td>\n",
       "      <td>-2.129346</td>\n",
       "      <td>Cammeo</td>\n",
       "    </tr>\n",
       "    <tr>\n",
       "      <th>121</th>\n",
       "      <td>-0.599298</td>\n",
       "      <td>-0.141209</td>\n",
       "      <td>0.501705</td>\n",
       "      <td>-1.935273</td>\n",
       "      <td>1.813926</td>\n",
       "      <td>-0.628136</td>\n",
       "      <td>-1.812577</td>\n",
       "      <td>Osmancik</td>\n",
       "    </tr>\n",
       "    <tr>\n",
       "      <th>88</th>\n",
       "      <td>-0.384999</td>\n",
       "      <td>0.373989</td>\n",
       "      <td>1.067879</td>\n",
       "      <td>-2.073269</td>\n",
       "      <td>2.234080</td>\n",
       "      <td>-0.405700</td>\n",
       "      <td>-1.465009</td>\n",
       "      <td>Cammeo</td>\n",
       "    </tr>\n",
       "    <tr>\n",
       "      <th>148</th>\n",
       "      <td>-0.743127</td>\n",
       "      <td>-0.118417</td>\n",
       "      <td>0.380747</td>\n",
       "      <td>-1.833046</td>\n",
       "      <td>1.671656</td>\n",
       "      <td>-0.757655</td>\n",
       "      <td>-1.929435</td>\n",
       "      <td>Cammeo</td>\n",
       "    </tr>\n",
       "    <tr>\n",
       "      <th>37</th>\n",
       "      <td>-1.203494</td>\n",
       "      <td>-0.411033</td>\n",
       "      <td>0.165477</td>\n",
       "      <td>-2.606058</td>\n",
       "      <td>1.977407</td>\n",
       "      <td>-1.205343</td>\n",
       "      <td>-1.954106</td>\n",
       "      <td>Osmancik</td>\n",
       "    </tr>\n",
       "    <tr>\n",
       "      <th>172</th>\n",
       "      <td>-0.502257</td>\n",
       "      <td>0.266296</td>\n",
       "      <td>0.735576</td>\n",
       "      <td>-1.731401</td>\n",
       "      <td>1.851926</td>\n",
       "      <td>-0.461450</td>\n",
       "      <td>-1.455400</td>\n",
       "      <td>Cammeo</td>\n",
       "    </tr>\n",
       "  </tbody>\n",
       "</table>\n",
       "</div>"
      ],
      "text/plain": [
       "         Area  Perimeter  Major_Axis_Length  Minor_Axis_Length  Eccentricity  \\\n",
       "46  -0.748325  -0.054116           0.715832          -2.455670      2.232483   \n",
       "34  -0.989772  -0.199552           0.489540          -2.669029      2.213980   \n",
       "121 -0.599298  -0.141209           0.501705          -1.935273      1.813926   \n",
       "88  -0.384999   0.373989           1.067879          -2.073269      2.234080   \n",
       "148 -0.743127  -0.118417           0.380747          -1.833046      1.671656   \n",
       "37  -1.203494  -0.411033           0.165477          -2.606058      1.977407   \n",
       "172 -0.502257   0.266296           0.735576          -1.731401      1.851926   \n",
       "\n",
       "     Convex_Area    Extent     Class  \n",
       "46     -0.789754 -1.765264    Cammeo  \n",
       "34     -1.027394 -2.129346    Cammeo  \n",
       "121    -0.628136 -1.812577  Osmancik  \n",
       "88     -0.405700 -1.465009    Cammeo  \n",
       "148    -0.757655 -1.929435    Cammeo  \n",
       "37     -1.205343 -1.954106  Osmancik  \n",
       "172    -0.461450 -1.455400    Cammeo  "
      ]
     },
     "execution_count": 33,
     "metadata": {},
     "output_type": "execute_result"
    }
   ],
   "source": [
    "df1.iloc[nearest_neighbor_ids]"
   ]
  },
  {
   "cell_type": "code",
   "execution_count": 34,
   "id": "ead4f43d-b50f-46a4-ac0b-3da6b08caf6d",
   "metadata": {},
   "outputs": [
    {
     "data": {
      "text/plain": [
       "Class\n",
       "Cammeo      5\n",
       "Osmancik    2\n",
       "Name: count, dtype: int64"
      ]
     },
     "execution_count": 34,
     "metadata": {},
     "output_type": "execute_result"
    }
   ],
   "source": [
    "df1.iloc[nearest_neighbor_ids]['Class'].value_counts()"
   ]
  },
  {
   "cell_type": "code",
   "execution_count": 35,
   "id": "c143c7c9-37f2-4a07-97d9-66fbb78e049e",
   "metadata": {},
   "outputs": [
    {
     "data": {
      "text/plain": [
       "'Cammeo'"
      ]
     },
     "execution_count": 35,
     "metadata": {},
     "output_type": "execute_result"
    }
   ],
   "source": [
    "df1.iloc[nearest_neighbor_ids]['Class'].value_counts().idxmax()"
   ]
  },
  {
   "cell_type": "markdown",
   "id": "f84bce42-5f17-4c7d-bfae-d8218739701e",
   "metadata": {},
   "source": [
    "==============================================================================================================="
   ]
  },
  {
   "cell_type": "markdown",
   "id": "eec94bed-b012-4ef8-a125-eba549486777",
   "metadata": {},
   "source": [
    "راه دوم\n",
    "مطمئن نیستم"
   ]
  },
  {
   "cell_type": "code",
   "execution_count": null,
   "id": "5db4e6ed-454f-420f-a894-5ce31742ed6d",
   "metadata": {},
   "outputs": [],
   "source": [
    "distances=abs(df1[['Area','Perimeter','Major_Axis_Length','Minor_Axis_Length','Eccentricity','Convex_Area','Extent']]-new_data)"
   ]
  },
  {
   "cell_type": "code",
   "execution_count": null,
   "id": "b7c25b4e-230c-4462-a407-ccb44223ef3f",
   "metadata": {},
   "outputs": [],
   "source": [
    "result=distances.sum(axis=1)"
   ]
  },
  {
   "cell_type": "code",
   "execution_count": null,
   "id": "ddb9b433-dd9e-4693-a40a-e57377961090",
   "metadata": {},
   "outputs": [],
   "source": [
    "result.iloc[result.head(7)]['Class'].value_counts().idxmax()"
   ]
  }
 ],
 "metadata": {
  "kernelspec": {
   "display_name": "Python 3 (ipykernel)",
   "language": "python",
   "name": "python3"
  },
  "language_info": {
   "codemirror_mode": {
    "name": "ipython",
    "version": 3
   },
   "file_extension": ".py",
   "mimetype": "text/x-python",
   "name": "python",
   "nbconvert_exporter": "python",
   "pygments_lexer": "ipython3",
   "version": "3.10.0"
  }
 },
 "nbformat": 4,
 "nbformat_minor": 5
}
